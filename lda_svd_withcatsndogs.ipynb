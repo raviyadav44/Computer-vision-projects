{
  "nbformat": 4,
  "nbformat_minor": 0,
  "metadata": {
    "colab": {
      "name": "lda_svd_withcatsndogs.ipynb",
      "provenance": [],
      "collapsed_sections": [],
      "include_colab_link": true
    },
    "kernelspec": {
      "name": "python3",
      "display_name": "Python 3"
    }
  },
  "cells": [
    {
      "cell_type": "markdown",
      "metadata": {
        "id": "view-in-github",
        "colab_type": "text"
      },
      "source": [
        "<a href=\"https://colab.research.google.com/github/raviyadav44/Computer-vision-projects/blob/main/lda_svd_withcatsndogs.ipynb\" target=\"_parent\"><img src=\"https://colab.research.google.com/assets/colab-badge.svg\" alt=\"Open In Colab\"/></a>"
      ]
    },
    {
      "cell_type": "code",
      "metadata": {
        "id": "vEic0S2E7t7p"
      },
      "source": [
        "#Ravi yadav\n",
        "#roll no:2K19CSUN04016"
      ],
      "execution_count": null,
      "outputs": []
    },
    {
      "cell_type": "code",
      "metadata": {
        "colab": {
          "base_uri": "https://localhost:8080/"
        },
        "id": "EpprnXHvL7xG",
        "outputId": "f375fac6-699c-4b2a-879a-7ba3d1d474cd"
      },
      "source": [
        "from google.colab import drive\n",
        "drive.mount('/content/drive')"
      ],
      "execution_count": null,
      "outputs": [
        {
          "output_type": "stream",
          "text": [
            "Drive already mounted at /content/drive; to attempt to forcibly remount, call drive.mount(\"/content/drive\", force_remount=True).\n"
          ],
          "name": "stdout"
        }
      ]
    },
    {
      "cell_type": "markdown",
      "metadata": {
        "id": "7viWyIWY8KGG"
      },
      "source": [
        "##STANDARD SCALER-\n",
        "####this is the package used for standardisation of data for transforming the data into a Normal distribution.like z=(x-mu)/sigma\n",
        "####where \n",
        "####mu-mean, which should we zero for a normal distribution\n",
        "####sigma-standarddeviation,which should be 1 for nirmal distribution."
      ]
    },
    {
      "cell_type": "markdown",
      "metadata": {
        "id": "sewF9uBU-cPN"
      },
      "source": [
        "##MINMAX SCALER-\n",
        "####This is the package used for scale down the data between [0-1].\n",
        "####xnorm=(x-xmin)/(xmax-xmin)\n",
        "####we generally use it for Deeplearning process."
      ]
    },
    {
      "cell_type": "markdown",
      "metadata": {
        "id": "55W1XNvZA0IK"
      },
      "source": [
        "ABOUT THE DATASET-\n",
        "we have two csv files naming dogs and cats respectively.\n",
        "the cat.csv has 80 different columns.\n",
        "the dogs.csv also has 80 different columns."
      ]
    },
    {
      "cell_type": "code",
      "metadata": {
        "id": "mm8trJ8FAzlq"
      },
      "source": [
        "import pandas as pd\n",
        "from sklearn.decomposition import PCA\n",
        "from sklearn.preprocessing import MinMaxScaler\n",
        "from sklearn.linear_model import LogisticRegression\n",
        "from sklearn.model_selection import train_test_split\n",
        "from sklearn.metrics import classification_report,confusion_matrix,accuracy_score\n",
        "import matplotlib.pyplot as plt\n",
        "from sklearn.discriminant_analysis import LinearDiscriminantAnalysis\n",
        "import numpy as np\n",
        "from numpy.linalg import svd\n",
        "import matplotlib.pyplot as plt\n",
        "from matplotlib.pyplot import imshow\n",
        "%matplotlib inline\n"
      ],
      "execution_count": null,
      "outputs": []
    },
    {
      "cell_type": "code",
      "metadata": {
        "id": "bGqWFjy095Qw"
      },
      "source": [
        "\n",
        "cat = pd.read_csv('/content/drive/MyDrive/cats_and_dogs/cat.csv')\n",
        "dog = pd.read_csv('/content/drive/MyDrive/cats_and_dogs/dog.csv')\n"
      ],
      "execution_count": null,
      "outputs": []
    },
    {
      "cell_type": "code",
      "metadata": {
        "colab": {
          "base_uri": "https://localhost:8080/",
          "height": 223
        },
        "id": "UxUv9XOgCBL9",
        "outputId": "be54d748-953c-43ed-db72-f63aea3637c7"
      },
      "source": [
        "cat.head()"
      ],
      "execution_count": null,
      "outputs": [
        {
          "output_type": "execute_result",
          "data": {
            "text/html": [
              "<div>\n",
              "<style scoped>\n",
              "    .dataframe tbody tr th:only-of-type {\n",
              "        vertical-align: middle;\n",
              "    }\n",
              "\n",
              "    .dataframe tbody tr th {\n",
              "        vertical-align: top;\n",
              "    }\n",
              "\n",
              "    .dataframe thead th {\n",
              "        text-align: right;\n",
              "    }\n",
              "</style>\n",
              "<table border=\"1\" class=\"dataframe\">\n",
              "  <thead>\n",
              "    <tr style=\"text-align: right;\">\n",
              "      <th></th>\n",
              "      <th>C1</th>\n",
              "      <th>C2</th>\n",
              "      <th>C3</th>\n",
              "      <th>C4</th>\n",
              "      <th>C5</th>\n",
              "      <th>C6</th>\n",
              "      <th>C7</th>\n",
              "      <th>C8</th>\n",
              "      <th>C9</th>\n",
              "      <th>C10</th>\n",
              "      <th>C11</th>\n",
              "      <th>C12</th>\n",
              "      <th>C13</th>\n",
              "      <th>C14</th>\n",
              "      <th>C15</th>\n",
              "      <th>C16</th>\n",
              "      <th>C17</th>\n",
              "      <th>C18</th>\n",
              "      <th>C19</th>\n",
              "      <th>C20</th>\n",
              "      <th>C21</th>\n",
              "      <th>C22</th>\n",
              "      <th>C23</th>\n",
              "      <th>C24</th>\n",
              "      <th>C25</th>\n",
              "      <th>C26</th>\n",
              "      <th>C27</th>\n",
              "      <th>C28</th>\n",
              "      <th>C29</th>\n",
              "      <th>C30</th>\n",
              "      <th>C31</th>\n",
              "      <th>C32</th>\n",
              "      <th>C33</th>\n",
              "      <th>C34</th>\n",
              "      <th>C35</th>\n",
              "      <th>C36</th>\n",
              "      <th>C37</th>\n",
              "      <th>C38</th>\n",
              "      <th>C39</th>\n",
              "      <th>C40</th>\n",
              "      <th>C41</th>\n",
              "      <th>C42</th>\n",
              "      <th>C43</th>\n",
              "      <th>C44</th>\n",
              "      <th>C45</th>\n",
              "      <th>C46</th>\n",
              "      <th>C47</th>\n",
              "      <th>C48</th>\n",
              "      <th>C49</th>\n",
              "      <th>C50</th>\n",
              "      <th>C51</th>\n",
              "      <th>C52</th>\n",
              "      <th>C53</th>\n",
              "      <th>C54</th>\n",
              "      <th>C55</th>\n",
              "      <th>C56</th>\n",
              "      <th>C57</th>\n",
              "      <th>C58</th>\n",
              "      <th>C59</th>\n",
              "      <th>C60</th>\n",
              "      <th>C61</th>\n",
              "      <th>C62</th>\n",
              "      <th>C63</th>\n",
              "      <th>C64</th>\n",
              "      <th>C65</th>\n",
              "      <th>C66</th>\n",
              "      <th>C67</th>\n",
              "      <th>C68</th>\n",
              "      <th>C69</th>\n",
              "      <th>C70</th>\n",
              "      <th>C71</th>\n",
              "      <th>C72</th>\n",
              "      <th>C73</th>\n",
              "      <th>C74</th>\n",
              "      <th>C75</th>\n",
              "      <th>C76</th>\n",
              "      <th>C77</th>\n",
              "      <th>C78</th>\n",
              "      <th>C79</th>\n",
              "      <th>C80</th>\n",
              "    </tr>\n",
              "  </thead>\n",
              "  <tbody>\n",
              "    <tr>\n",
              "      <th>0</th>\n",
              "      <td>64</td>\n",
              "      <td>23</td>\n",
              "      <td>250</td>\n",
              "      <td>137</td>\n",
              "      <td>55</td>\n",
              "      <td>173</td>\n",
              "      <td>18</td>\n",
              "      <td>134</td>\n",
              "      <td>19</td>\n",
              "      <td>47</td>\n",
              "      <td>109</td>\n",
              "      <td>164</td>\n",
              "      <td>41</td>\n",
              "      <td>78</td>\n",
              "      <td>108</td>\n",
              "      <td>108</td>\n",
              "      <td>247</td>\n",
              "      <td>105</td>\n",
              "      <td>158</td>\n",
              "      <td>54</td>\n",
              "      <td>103</td>\n",
              "      <td>4</td>\n",
              "      <td>23</td>\n",
              "      <td>102</td>\n",
              "      <td>239</td>\n",
              "      <td>72</td>\n",
              "      <td>42</td>\n",
              "      <td>21</td>\n",
              "      <td>168</td>\n",
              "      <td>109</td>\n",
              "      <td>112</td>\n",
              "      <td>177</td>\n",
              "      <td>22</td>\n",
              "      <td>233</td>\n",
              "      <td>15</td>\n",
              "      <td>236</td>\n",
              "      <td>250</td>\n",
              "      <td>137</td>\n",
              "      <td>32</td>\n",
              "      <td>5</td>\n",
              "      <td>178</td>\n",
              "      <td>109</td>\n",
              "      <td>24</td>\n",
              "      <td>107</td>\n",
              "      <td>53</td>\n",
              "      <td>241</td>\n",
              "      <td>226</td>\n",
              "      <td>143</td>\n",
              "      <td>5</td>\n",
              "      <td>136</td>\n",
              "      <td>98</td>\n",
              "      <td>100</td>\n",
              "      <td>89</td>\n",
              "      <td>66</td>\n",
              "      <td>228</td>\n",
              "      <td>92</td>\n",
              "      <td>255</td>\n",
              "      <td>88</td>\n",
              "      <td>230</td>\n",
              "      <td>56</td>\n",
              "      <td>160</td>\n",
              "      <td>69</td>\n",
              "      <td>6</td>\n",
              "      <td>24</td>\n",
              "      <td>195</td>\n",
              "      <td>183</td>\n",
              "      <td>239</td>\n",
              "      <td>35</td>\n",
              "      <td>154</td>\n",
              "      <td>154</td>\n",
              "      <td>122</td>\n",
              "      <td>18</td>\n",
              "      <td>87</td>\n",
              "      <td>106</td>\n",
              "      <td>174</td>\n",
              "      <td>69</td>\n",
              "      <td>28</td>\n",
              "      <td>60</td>\n",
              "      <td>223</td>\n",
              "      <td>101</td>\n",
              "    </tr>\n",
              "    <tr>\n",
              "      <th>1</th>\n",
              "      <td>64</td>\n",
              "      <td>23</td>\n",
              "      <td>250</td>\n",
              "      <td>137</td>\n",
              "      <td>55</td>\n",
              "      <td>173</td>\n",
              "      <td>18</td>\n",
              "      <td>134</td>\n",
              "      <td>19</td>\n",
              "      <td>44</td>\n",
              "      <td>109</td>\n",
              "      <td>164</td>\n",
              "      <td>32</td>\n",
              "      <td>78</td>\n",
              "      <td>110</td>\n",
              "      <td>94</td>\n",
              "      <td>247</td>\n",
              "      <td>99</td>\n",
              "      <td>158</td>\n",
              "      <td>54</td>\n",
              "      <td>98</td>\n",
              "      <td>4</td>\n",
              "      <td>116</td>\n",
              "      <td>102</td>\n",
              "      <td>239</td>\n",
              "      <td>80</td>\n",
              "      <td>42</td>\n",
              "      <td>22</td>\n",
              "      <td>168</td>\n",
              "      <td>109</td>\n",
              "      <td>77</td>\n",
              "      <td>170</td>\n",
              "      <td>31</td>\n",
              "      <td>233</td>\n",
              "      <td>15</td>\n",
              "      <td>140</td>\n",
              "      <td>250</td>\n",
              "      <td>93</td>\n",
              "      <td>32</td>\n",
              "      <td>5</td>\n",
              "      <td>178</td>\n",
              "      <td>91</td>\n",
              "      <td>24</td>\n",
              "      <td>113</td>\n",
              "      <td>54</td>\n",
              "      <td>240</td>\n",
              "      <td>226</td>\n",
              "      <td>156</td>\n",
              "      <td>9</td>\n",
              "      <td>131</td>\n",
              "      <td>87</td>\n",
              "      <td>93</td>\n",
              "      <td>101</td>\n",
              "      <td>57</td>\n",
              "      <td>232</td>\n",
              "      <td>91</td>\n",
              "      <td>77</td>\n",
              "      <td>83</td>\n",
              "      <td>230</td>\n",
              "      <td>57</td>\n",
              "      <td>158</td>\n",
              "      <td>72</td>\n",
              "      <td>0</td>\n",
              "      <td>19</td>\n",
              "      <td>166</td>\n",
              "      <td>187</td>\n",
              "      <td>237</td>\n",
              "      <td>53</td>\n",
              "      <td>141</td>\n",
              "      <td>135</td>\n",
              "      <td>118</td>\n",
              "      <td>37</td>\n",
              "      <td>80</td>\n",
              "      <td>99</td>\n",
              "      <td>179</td>\n",
              "      <td>71</td>\n",
              "      <td>32</td>\n",
              "      <td>50</td>\n",
              "      <td>224</td>\n",
              "      <td>107</td>\n",
              "    </tr>\n",
              "    <tr>\n",
              "      <th>2</th>\n",
              "      <td>64</td>\n",
              "      <td>20</td>\n",
              "      <td>250</td>\n",
              "      <td>137</td>\n",
              "      <td>55</td>\n",
              "      <td>173</td>\n",
              "      <td>18</td>\n",
              "      <td>134</td>\n",
              "      <td>19</td>\n",
              "      <td>56</td>\n",
              "      <td>109</td>\n",
              "      <td>175</td>\n",
              "      <td>40</td>\n",
              "      <td>92</td>\n",
              "      <td>120</td>\n",
              "      <td>85</td>\n",
              "      <td>245</td>\n",
              "      <td>89</td>\n",
              "      <td>158</td>\n",
              "      <td>54</td>\n",
              "      <td>89</td>\n",
              "      <td>4</td>\n",
              "      <td>227</td>\n",
              "      <td>111</td>\n",
              "      <td>239</td>\n",
              "      <td>95</td>\n",
              "      <td>42</td>\n",
              "      <td>37</td>\n",
              "      <td>168</td>\n",
              "      <td>95</td>\n",
              "      <td>41</td>\n",
              "      <td>170</td>\n",
              "      <td>92</td>\n",
              "      <td>233</td>\n",
              "      <td>15</td>\n",
              "      <td>4</td>\n",
              "      <td>250</td>\n",
              "      <td>77</td>\n",
              "      <td>32</td>\n",
              "      <td>5</td>\n",
              "      <td>178</td>\n",
              "      <td>57</td>\n",
              "      <td>24</td>\n",
              "      <td>90</td>\n",
              "      <td>56</td>\n",
              "      <td>236</td>\n",
              "      <td>230</td>\n",
              "      <td>155</td>\n",
              "      <td>11</td>\n",
              "      <td>132</td>\n",
              "      <td>87</td>\n",
              "      <td>79</td>\n",
              "      <td>93</td>\n",
              "      <td>55</td>\n",
              "      <td>228</td>\n",
              "      <td>94</td>\n",
              "      <td>77</td>\n",
              "      <td>86</td>\n",
              "      <td>234</td>\n",
              "      <td>61</td>\n",
              "      <td>158</td>\n",
              "      <td>69</td>\n",
              "      <td>2</td>\n",
              "      <td>25</td>\n",
              "      <td>157</td>\n",
              "      <td>199</td>\n",
              "      <td>231</td>\n",
              "      <td>72</td>\n",
              "      <td>147</td>\n",
              "      <td>162</td>\n",
              "      <td>77</td>\n",
              "      <td>24</td>\n",
              "      <td>76</td>\n",
              "      <td>57</td>\n",
              "      <td>163</td>\n",
              "      <td>73</td>\n",
              "      <td>28</td>\n",
              "      <td>63</td>\n",
              "      <td>225</td>\n",
              "      <td>106</td>\n",
              "    </tr>\n",
              "    <tr>\n",
              "      <th>3</th>\n",
              "      <td>64</td>\n",
              "      <td>20</td>\n",
              "      <td>244</td>\n",
              "      <td>144</td>\n",
              "      <td>55</td>\n",
              "      <td>173</td>\n",
              "      <td>13</td>\n",
              "      <td>134</td>\n",
              "      <td>19</td>\n",
              "      <td>72</td>\n",
              "      <td>109</td>\n",
              "      <td>181</td>\n",
              "      <td>34</td>\n",
              "      <td>96</td>\n",
              "      <td>108</td>\n",
              "      <td>92</td>\n",
              "      <td>245</td>\n",
              "      <td>89</td>\n",
              "      <td>158</td>\n",
              "      <td>65</td>\n",
              "      <td>89</td>\n",
              "      <td>4</td>\n",
              "      <td>149</td>\n",
              "      <td>102</td>\n",
              "      <td>239</td>\n",
              "      <td>91</td>\n",
              "      <td>42</td>\n",
              "      <td>37</td>\n",
              "      <td>168</td>\n",
              "      <td>95</td>\n",
              "      <td>80</td>\n",
              "      <td>160</td>\n",
              "      <td>116</td>\n",
              "      <td>233</td>\n",
              "      <td>12</td>\n",
              "      <td>4</td>\n",
              "      <td>250</td>\n",
              "      <td>175</td>\n",
              "      <td>46</td>\n",
              "      <td>5</td>\n",
              "      <td>190</td>\n",
              "      <td>19</td>\n",
              "      <td>23</td>\n",
              "      <td>103</td>\n",
              "      <td>57</td>\n",
              "      <td>236</td>\n",
              "      <td>232</td>\n",
              "      <td>158</td>\n",
              "      <td>9</td>\n",
              "      <td>128</td>\n",
              "      <td>89</td>\n",
              "      <td>58</td>\n",
              "      <td>48</td>\n",
              "      <td>50</td>\n",
              "      <td>222</td>\n",
              "      <td>92</td>\n",
              "      <td>76</td>\n",
              "      <td>84</td>\n",
              "      <td>236</td>\n",
              "      <td>61</td>\n",
              "      <td>158</td>\n",
              "      <td>66</td>\n",
              "      <td>7</td>\n",
              "      <td>23</td>\n",
              "      <td>186</td>\n",
              "      <td>179</td>\n",
              "      <td>206</td>\n",
              "      <td>92</td>\n",
              "      <td>141</td>\n",
              "      <td>154</td>\n",
              "      <td>109</td>\n",
              "      <td>14</td>\n",
              "      <td>71</td>\n",
              "      <td>32</td>\n",
              "      <td>169</td>\n",
              "      <td>76</td>\n",
              "      <td>38</td>\n",
              "      <td>53</td>\n",
              "      <td>230</td>\n",
              "      <td>105</td>\n",
              "    </tr>\n",
              "    <tr>\n",
              "      <th>4</th>\n",
              "      <td>64</td>\n",
              "      <td>9</td>\n",
              "      <td>244</td>\n",
              "      <td>151</td>\n",
              "      <td>55</td>\n",
              "      <td>158</td>\n",
              "      <td>13</td>\n",
              "      <td>134</td>\n",
              "      <td>19</td>\n",
              "      <td>72</td>\n",
              "      <td>110</td>\n",
              "      <td>158</td>\n",
              "      <td>32</td>\n",
              "      <td>78</td>\n",
              "      <td>97</td>\n",
              "      <td>92</td>\n",
              "      <td>245</td>\n",
              "      <td>77</td>\n",
              "      <td>158</td>\n",
              "      <td>54</td>\n",
              "      <td>98</td>\n",
              "      <td>4</td>\n",
              "      <td>49</td>\n",
              "      <td>97</td>\n",
              "      <td>239</td>\n",
              "      <td>91</td>\n",
              "      <td>42</td>\n",
              "      <td>37</td>\n",
              "      <td>168</td>\n",
              "      <td>109</td>\n",
              "      <td>112</td>\n",
              "      <td>149</td>\n",
              "      <td>96</td>\n",
              "      <td>233</td>\n",
              "      <td>12</td>\n",
              "      <td>12</td>\n",
              "      <td>250</td>\n",
              "      <td>175</td>\n",
              "      <td>104</td>\n",
              "      <td>5</td>\n",
              "      <td>178</td>\n",
              "      <td>4</td>\n",
              "      <td>24</td>\n",
              "      <td>99</td>\n",
              "      <td>58</td>\n",
              "      <td>243</td>\n",
              "      <td>226</td>\n",
              "      <td>165</td>\n",
              "      <td>6</td>\n",
              "      <td>126</td>\n",
              "      <td>88</td>\n",
              "      <td>29</td>\n",
              "      <td>45</td>\n",
              "      <td>52</td>\n",
              "      <td>224</td>\n",
              "      <td>97</td>\n",
              "      <td>82</td>\n",
              "      <td>91</td>\n",
              "      <td>227</td>\n",
              "      <td>61</td>\n",
              "      <td>160</td>\n",
              "      <td>67</td>\n",
              "      <td>3</td>\n",
              "      <td>23</td>\n",
              "      <td>184</td>\n",
              "      <td>138</td>\n",
              "      <td>191</td>\n",
              "      <td>138</td>\n",
              "      <td>151</td>\n",
              "      <td>153</td>\n",
              "      <td>139</td>\n",
              "      <td>17</td>\n",
              "      <td>71</td>\n",
              "      <td>106</td>\n",
              "      <td>193</td>\n",
              "      <td>77</td>\n",
              "      <td>22</td>\n",
              "      <td>43</td>\n",
              "      <td>233</td>\n",
              "      <td>110</td>\n",
              "    </tr>\n",
              "  </tbody>\n",
              "</table>\n",
              "</div>"
            ],
            "text/plain": [
              "   C1  C2   C3   C4  C5   C6  C7   C8  ...  C73  C74  C75  C76  C77  C78  C79  C80\n",
              "0  64  23  250  137  55  173  18  134  ...   87  106  174   69   28   60  223  101\n",
              "1  64  23  250  137  55  173  18  134  ...   80   99  179   71   32   50  224  107\n",
              "2  64  20  250  137  55  173  18  134  ...   76   57  163   73   28   63  225  106\n",
              "3  64  20  244  144  55  173  13  134  ...   71   32  169   76   38   53  230  105\n",
              "4  64   9  244  151  55  158  13  134  ...   71  106  193   77   22   43  233  110\n",
              "\n",
              "[5 rows x 80 columns]"
            ]
          },
          "metadata": {
            "tags": []
          },
          "execution_count": 49
        }
      ]
    },
    {
      "cell_type": "code",
      "metadata": {
        "colab": {
          "base_uri": "https://localhost:8080/"
        },
        "id": "MLX8S5glCDsp",
        "outputId": "32622b51-c001-477d-97d4-7b6b31e70396"
      },
      "source": [
        "cat.shape"
      ],
      "execution_count": null,
      "outputs": [
        {
          "output_type": "execute_result",
          "data": {
            "text/plain": [
              "(4096, 80)"
            ]
          },
          "metadata": {
            "tags": []
          },
          "execution_count": 50
        }
      ]
    },
    {
      "cell_type": "code",
      "metadata": {
        "colab": {
          "base_uri": "https://localhost:8080/"
        },
        "id": "ikL7GEl2CfmU",
        "outputId": "d2236b13-e76b-4680-aeb0-11026142b3de"
      },
      "source": [
        "dog.shape"
      ],
      "execution_count": null,
      "outputs": [
        {
          "output_type": "execute_result",
          "data": {
            "text/plain": [
              "(4096, 80)"
            ]
          },
          "metadata": {
            "tags": []
          },
          "execution_count": 51
        }
      ]
    },
    {
      "cell_type": "code",
      "metadata": {
        "colab": {
          "base_uri": "https://localhost:8080/"
        },
        "id": "KtFLlHkBChrK",
        "outputId": "57bfc408-58ff-4f48-d8ff-69846ee2999f"
      },
      "source": [
        "print(cat.shape)\n",
        "cat.head()\n",
        "cat = cat.T\n",
        "dog = dog.T\n"
      ],
      "execution_count": null,
      "outputs": [
        {
          "output_type": "stream",
          "text": [
            "(4096, 80)\n"
          ],
          "name": "stdout"
        }
      ]
    },
    {
      "cell_type": "code",
      "metadata": {
        "colab": {
          "base_uri": "https://localhost:8080/"
        },
        "id": "zQToeGPmG_sD",
        "outputId": "549d4bc9-29fd-4b05-a7d4-edbac0265be5"
      },
      "source": [
        "cat.shape"
      ],
      "execution_count": null,
      "outputs": [
        {
          "output_type": "execute_result",
          "data": {
            "text/plain": [
              "(80, 4096)"
            ]
          },
          "metadata": {
            "tags": []
          },
          "execution_count": 53
        }
      ]
    },
    {
      "cell_type": "code",
      "metadata": {
        "colab": {
          "base_uri": "https://localhost:8080/"
        },
        "id": "qIgGG4NNHCGv",
        "outputId": "70dd8be0-f7a8-423b-9bf1-def500020c3a"
      },
      "source": [
        "dog.shape"
      ],
      "execution_count": null,
      "outputs": [
        {
          "output_type": "execute_result",
          "data": {
            "text/plain": [
              "(80, 4096)"
            ]
          },
          "metadata": {
            "tags": []
          },
          "execution_count": 54
        }
      ]
    },
    {
      "cell_type": "code",
      "metadata": {
        "id": "kUAs8SuECz6E"
      },
      "source": [
        "a = dog.iloc[5].values"
      ],
      "execution_count": null,
      "outputs": []
    },
    {
      "cell_type": "code",
      "metadata": {
        "colab": {
          "base_uri": "https://localhost:8080/"
        },
        "id": "JFPg4IpGN0Cw",
        "outputId": "b9039ff2-2a41-44ad-85f8-082695286243"
      },
      "source": [
        "a"
      ],
      "execution_count": null,
      "outputs": [
        {
          "output_type": "execute_result",
          "data": {
            "text/plain": [
              "array([17,  8,  0, ...,  8,  0,  0])"
            ]
          },
          "metadata": {
            "tags": []
          },
          "execution_count": 86
        }
      ]
    },
    {
      "cell_type": "code",
      "metadata": {
        "colab": {
          "base_uri": "https://localhost:8080/",
          "height": 70
        },
        "id": "Tlnb0KS_C4Bv",
        "outputId": "e5d42d01-14e1-45f2-a1ec-21a162c59310"
      },
      "source": [
        "plt.imshow(a.reshape(64,64).T,cmap='gray')"
      ],
      "execution_count": null,
      "outputs": [
        {
          "output_type": "execute_result",
          "data": {
            "text/plain": [
              "<matplotlib.image.AxesImage at 0x7fbb012c49d0>"
            ]
          },
          "metadata": {
            "tags": []
          },
          "execution_count": 87
        },
        {
          "output_type": "display_data",
          "data": {
            "image/png": "[encoded data removed]",
            "text/plain": [
              "<Figure size 432x288 with 1 Axes>"
            ]
          },
          "metadata": {
            "tags": [],
            "needs_background": "light"
          }
        }
      ]
    },
    {
      "cell_type": "code",
      "metadata": {
        "id": "aYS-Tyv4DB9x"
      },
      "source": [
        "b = cat.iloc[5].values"
      ],
      "execution_count": null,
      "outputs": []
    },
    {
      "cell_type": "code",
      "metadata": {
        "colab": {
          "base_uri": "https://localhost:8080/"
        },
        "id": "txDXxMfWRBIg",
        "outputId": "de4753e2-405d-49da-bee0-0ade6f79fc59"
      },
      "source": [
        "b.shape"
      ],
      "execution_count": null,
      "outputs": [
        {
          "output_type": "execute_result",
          "data": {
            "text/plain": [
              "(4096,)"
            ]
          },
          "metadata": {
            "tags": []
          },
          "execution_count": 59
        }
      ]
    },
    {
      "cell_type": "code",
      "metadata": {
        "colab": {
          "base_uri": "https://localhost:8080/",
          "height": 285
        },
        "id": "8Cc7yBHmD97_",
        "outputId": "125b7959-22ca-4527-b7ee-85d2456c240c"
      },
      "source": [
        "plt.imshow(b.reshape(64,64).T,cmap='gray')"
      ],
      "execution_count": null,
      "outputs": [
        {
          "output_type": "execute_result",
          "data": {
            "text/plain": [
              "<matplotlib.image.AxesImage at 0x7fbb012de190>"
            ]
          },
          "metadata": {
            "tags": []
          },
          "execution_count": 84
        },
        {
          "output_type": "display_data",
          "data": {
            "image/png": "[encoded data removed]",
            "text/plain": [
              "<Figure size 432x288 with 1 Axes>"
            ]
          },
          "metadata": {
            "tags": [],
            "needs_background": "light"
          }
        }
      ]
    },
    {
      "cell_type": "code",
      "metadata": {
        "id": "GGRE384HEBZJ"
      },
      "source": [
        "total = pd.concat([dog,cat])"
      ],
      "execution_count": null,
      "outputs": []
    },
    {
      "cell_type": "code",
      "metadata": {
        "colab": {
          "base_uri": "https://localhost:8080/"
        },
        "id": "AEWP_ad2GuI0",
        "outputId": "429dbd7f-546e-4d11-b03e-b071f2f20880"
      },
      "source": [
        "total.shape"
      ],
      "execution_count": null,
      "outputs": [
        {
          "output_type": "execute_result",
          "data": {
            "text/plain": [
              "(160, 4096)"
            ]
          },
          "metadata": {
            "tags": []
          },
          "execution_count": 62
        }
      ]
    },
    {
      "cell_type": "markdown",
      "metadata": {
        "id": "TO_QxfnVF1oi"
      },
      "source": [
        "Transforming the data\n",
        "and applying the LDA"
      ]
    },
    {
      "cell_type": "code",
      "metadata": {
        "id": "QAtLcoUgFvT4"
      },
      "source": [
        "minmax = MinMaxScaler()\n",
        "total = minmax.fit_transform(total)\n",
        "total = pd.DataFrame(total)\n",
        "lda = LinearDiscriminantAnalysis()\n"
      ],
      "execution_count": null,
      "outputs": []
    },
    {
      "cell_type": "code",
      "metadata": {
        "id": "StgtNrgYGmJl"
      },
      "source": [
        "\n",
        "import warnings\n",
        "warnings.filterwarnings('ignore')\n"
      ],
      "execution_count": null,
      "outputs": []
    },
    {
      "cell_type": "code",
      "metadata": {
        "id": "7ZaUBpfuF_PT"
      },
      "source": [
        "total = total.reset_index()\n",
        "total['index'][:80] = 1\n",
        "total['index'][80:] = 0\n"
      ],
      "execution_count": null,
      "outputs": []
    },
    {
      "cell_type": "markdown",
      "metadata": {
        "id": "MYot-9yXMwpx"
      },
      "source": [
        "#LOGISTIC REGRESSION BEFORE APPLYING LDA"
      ]
    },
    {
      "cell_type": "code",
      "metadata": {
        "colab": {
          "base_uri": "https://localhost:8080/"
        },
        "id": "z9o1d7jpMcZc",
        "outputId": "e190285f-9b33-492c-b3fa-997ec4ec9700"
      },
      "source": [
        "x = total.drop('index',1)\n",
        "y = total['index']\n",
        "x.shape"
      ],
      "execution_count": null,
      "outputs": [
        {
          "output_type": "execute_result",
          "data": {
            "text/plain": [
              "(160, 4096)"
            ]
          },
          "metadata": {
            "tags": []
          },
          "execution_count": 66
        }
      ]
    },
    {
      "cell_type": "code",
      "metadata": {
        "colab": {
          "base_uri": "https://localhost:8080/"
        },
        "id": "Fr4yVPYxMcWe",
        "outputId": "904e5ce2-69fb-4c53-b7b1-827377f24011"
      },
      "source": [
        "log = LogisticRegression()\n",
        "x_train,x_test,y_train,y_test = train_test_split(x,y,test_size = 0.2,random_state = 42)\n",
        "log.fit(x_train,y_train)\n",
        "logistic_predictions = log.predict(x_test)\n",
        "\n",
        "print(accuracy_score(y_test,logistic_predictions))"
      ],
      "execution_count": null,
      "outputs": [
        {
          "output_type": "stream",
          "text": [
            "0.8125\n"
          ],
          "name": "stdout"
        }
      ]
    },
    {
      "cell_type": "markdown",
      "metadata": {
        "id": "0EsqqJhCNv0u"
      },
      "source": [
        "#LDA MODEL"
      ]
    },
    {
      "cell_type": "code",
      "metadata": {
        "id": "bg4srb_jGSpt",
        "colab": {
          "base_uri": "https://localhost:8080/"
        },
        "outputId": "656ed451-8072-41f4-c15a-d1d59e2007d6"
      },
      "source": [
        "x = total.drop('index',1)\n",
        "y = total['index']\n",
        "x.shape\n",
        "x_transformed = lda.fit_transform(x,y)\n",
        "x_transformed.shape\n",
        "x_train,x_test,y_train,y_test = train_test_split(x_transformed,y,test_size = 0.3,random_state = 42)\n",
        "lda_model = lda.fit(x_train,y_train)\n",
        "prediction = lda.predict(x_test)\n",
        "x_transformed.shape"
      ],
      "execution_count": null,
      "outputs": [
        {
          "output_type": "execute_result",
          "data": {
            "text/plain": [
              "(160, 1)"
            ]
          },
          "metadata": {
            "tags": []
          },
          "execution_count": 78
        }
      ]
    },
    {
      "cell_type": "code",
      "metadata": {
        "colab": {
          "base_uri": "https://localhost:8080/"
        },
        "id": "AkEqPa1XIFb5",
        "outputId": "8bed9e04-3db1-41f1-915c-381d35ec0704"
      },
      "source": [
        "\n",
        "prediction = lda.predict(x_test)\n",
        "print('Accuracy Score for LDA Model is {}'.format(accuracy_score(y_test,prediction)))\n",
        "x_train,x_test,y_train,y_test = train_test_split(x_transformed,y,test_size = 0.3,random_state = 42)\n"
      ],
      "execution_count": null,
      "outputs": [
        {
          "output_type": "stream",
          "text": [
            "Accuracy Score for LDA Model is 0.9583333333333334\n"
          ],
          "name": "stdout"
        }
      ]
    },
    {
      "cell_type": "markdown",
      "metadata": {
        "id": "2Q4mXLeqMTbY"
      },
      "source": [
        "#LOGISTIC REGRESSION AFTER APPLYING LDA"
      ]
    },
    {
      "cell_type": "code",
      "metadata": {
        "colab": {
          "base_uri": "https://localhost:8080/"
        },
        "id": "6wHH9nxLIGTl",
        "outputId": "3eb47390-7972-4652-bdc0-261dddf391aa"
      },
      "source": [
        "log = LogisticRegression()\n",
        "log.fit(x_train,y_train)\n",
        "logistic_predictions = log.predict(x_test)\n",
        "\n",
        "print(accuracy_score(y_test,logistic_predictions))\n"
      ],
      "execution_count": null,
      "outputs": [
        {
          "output_type": "stream",
          "text": [
            "0.9375\n"
          ],
          "name": "stdout"
        }
      ]
    },
    {
      "cell_type": "markdown",
      "metadata": {
        "id": "JTY4SFfiNPs8"
      },
      "source": [
        "#SVD on Image dataset"
      ]
    },
    {
      "cell_type": "code",
      "metadata": {
        "id": "TEzwLeG3IMV_"
      },
      "source": [
        "# vmin = 0\n",
        "# vmax = 1\n",
        "# image_bias = 1 # sometimes 1\n",
        "# def plot_svd(A):\n",
        "#     n = len(A)\n",
        "#     imshow(image_bias-A, cmap='gray', vmin=vmin, vmax=vmax)\n",
        "#     plt.show()\n",
        "#     U, S, V = svd(A)\n",
        "\n",
        "#     imgs = []\n",
        "#     for i in range(n):\n",
        "#         imgs.append(S[i]*np.outer(U[:,i],V[i]))\n",
        "\n",
        "#     combined_imgs = []\n",
        "#     for i in range(n):\n",
        "#         img = sum(imgs[:i+1])\n",
        "#         combined_imgs.append(img)\n",
        "        \n",
        "#     fig, axes = plt.subplots(figsize = (n*n,n), nrows = 1, ncols = n, sharex=True, sharey=True)\n",
        "#     for num, ax in zip(range(n), axes):\n",
        "#         ax.imshow(image_bias-imgs[num], cmap='gray', vmin=vmin, vmax=vmax)\n",
        "#         ax.set_title(np.round(S[num],2), fontsize=80)\n",
        "#     plt.show()\n",
        "    \n",
        "#     fig, axes = plt.subplots(figsize = (n*n,n), nrows = 1, ncols = n, sharex=True, sharey=True)\n",
        "#     for num, ax in zip(range(n), axes):\n",
        "#         ax.imshow(image_bias-combined_imgs[num], cmap='gray', vmin=vmin, vmax=vmax)\n",
        "#     plt.show()\n",
        "\n",
        "#     return U,S,V"
      ],
      "execution_count": null,
      "outputs": []
    },
    {
      "cell_type": "code",
      "metadata": {
        "id": "TDIszmQkNpJk"
      },
      "source": [
        "D=np.array(cat.iloc[0].values)\n",
        "D=D.reshape(2,-1)"
      ],
      "execution_count": null,
      "outputs": []
    },
    {
      "cell_type": "code",
      "metadata": {
        "id": "JxxRRgw-NpGZ"
      },
      "source": [
        "U, S, V = np.linalg.svd(D,full_matrices=False)"
      ],
      "execution_count": null,
      "outputs": []
    },
    {
      "cell_type": "code",
      "metadata": {
        "colab": {
          "base_uri": "https://localhost:8080/"
        },
        "id": "QFsE8t2DQqbU",
        "outputId": "fc431559-74b4-41ec-eac2-6d23fb6f1165"
      },
      "source": [
        "print(U.shape, S.shape, V.shape)"
      ],
      "execution_count": null,
      "outputs": [
        {
          "output_type": "stream",
          "text": [
            "(2, 2) (2,) (2, 2048)\n"
          ],
          "name": "stdout"
        }
      ]
    },
    {
      "cell_type": "code",
      "metadata": {
        "id": "_l0WyhVaTXVI"
      },
      "source": [
        "S=np.diag(S)"
      ],
      "execution_count": null,
      "outputs": []
    },
    {
      "cell_type": "code",
      "metadata": {
        "id": "23cNgvV0TXRy"
      },
      "source": [
        "r = 5\n",
        "reconstruction = U[:,:r] @ S[0:r,:r] @ V[:r,:]"
      ],
      "execution_count": null,
      "outputs": []
    },
    {
      "cell_type": "code",
      "metadata": {
        "colab": {
          "base_uri": "https://localhost:8080/",
          "height": 69
        },
        "id": "9ZnhuKWlVnzI",
        "outputId": "7a876db9-40bb-4739-84b8-1590ea244ea7"
      },
      "source": [
        "plt.imshow(reconstruction)"
      ],
      "execution_count": null,
      "outputs": [
        {
          "output_type": "execute_result",
          "data": {
            "text/plain": [
              "<matplotlib.image.AxesImage at 0x7fbb1003cf50>"
            ]
          },
          "metadata": {
            "tags": []
          },
          "execution_count": 77
        },
        {
          "output_type": "display_data",
          "data": {
            "image/png": "[encoded data removed]",
            "text/plain": [
              "<Figure size 432x288 with 1 Axes>"
            ]
          },
          "metadata": {
            "tags": [],
            "needs_background": "light"
          }
        }
      ]
    }
  ]
}